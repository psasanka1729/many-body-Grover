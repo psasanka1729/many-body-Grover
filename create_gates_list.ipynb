{
 "cells": [
  {
   "cell_type": "code",
   "execution_count": 182,
   "id": "d716b788-a78a-453e-855b-df48a88c7788",
   "metadata": {},
   "outputs": [],
   "source": [
    "import sys\n",
    "from qiskit import*\n",
    "#from qiskit import Aer\n",
    "import qiskit.quantum_info as qi\n",
    "import numpy as np\n",
    "#from math import pi\n",
    "#import matplotlib.pyplot as plt\n",
    "import re"
   ]
  },
  {
   "cell_type": "code",
   "execution_count": 183,
   "id": "51e86d22-a72e-4dcc-92c1-18e49e694421",
   "metadata": {},
   "outputs": [],
   "source": [
    "L = 6;"
   ]
  },
  {
   "cell_type": "markdown",
   "id": "3feaf2f0-b540-4487-8fc1-d8a1f75e8172",
   "metadata": {},
   "source": [
    "# Circuit for the $L$ qubit Toffoli gate"
   ]
  },
  {
   "cell_type": "code",
   "execution_count": 184,
   "id": "ad4f3923-c4fe-439c-8196-15df6164bf86",
   "metadata": {},
   "outputs": [
    {
     "data": {
      "image/png": "[encoded data removed]",
      "text/plain": [
       "<Figure size 146.797x385.28 with 1 Axes>"
      ]
     },
     "execution_count": 184,
     "metadata": {},
     "output_type": "execute_result"
    }
   ],
   "source": [
    "qc = QuantumCircuit(L)\n",
    "qc.mcx([i for i in range(L-1)],L-1)\n",
    "qc.draw(\"mpl\")"
   ]
  },
  {
   "cell_type": "markdown",
   "id": "bd305719-38df-4e2a-827b-8959aa039950",
   "metadata": {},
   "source": [
    "# Transpiling the $L$ qubit Toffoli gate"
   ]
  },
  {
   "cell_type": "code",
   "execution_count": 185,
   "id": "395b1b52-e69d-4b98-a1b5-3a4cf3ba225c",
   "metadata": {},
   "outputs": [],
   "source": [
    "trans_qc = transpile(qc, basis_gates = ['u1','rx','cx'], optimization_level = 1)\n",
    "#trans_qc.draw(\"mpl\")"
   ]
  },
  {
   "cell_type": "code",
   "execution_count": 186,
   "id": "7dd69fab-a1f7-4483-9c07-12f7ab7e439e",
   "metadata": {},
   "outputs": [
    {
     "data": {
      "text/plain": [
       "190"
      ]
     },
     "execution_count": 186,
     "metadata": {},
     "output_type": "execute_result"
    }
   ],
   "source": [
    "len(trans_qc)"
   ]
  },
  {
   "cell_type": "code",
   "execution_count": 187,
   "id": "609dd32a-69bc-4eaf-bc59-dab03e8508e6",
   "metadata": {},
   "outputs": [],
   "source": [
    "def extract_gate_details(gate_index, gate_instruction_string):\n",
    "    \n",
    "    gate_string = str(gate_instruction_string[gate_index])\n",
    "    gate_as_list = []\n",
    "    \n",
    "    # u1 gate.\n",
    "    if \"u1\" in gate_string:\n",
    "        \n",
    "        match = re.search(r\"ParameterExpression\\((-?\\d+\\.\\d+)\", gate_string)\n",
    "        if match:\n",
    "            angle          = float(match.group(1))\n",
    "            qubit_acted_on = re.search(r\", 'q'\\), (\\d+)\", gate_string).group(1)\n",
    "            \n",
    "        match = re.search(r\"params=\\[([\\d.]+)\\]\", gate_string)\n",
    "        if match:\n",
    "            angle          = float(match.group(1))\n",
    "            qubit_acted_on = re.search(r\", 'q'\\), (\\d+)\", gate_string).group(1)            \n",
    "        \n",
    "        match = re.search(r\"params=\\[(\\d+\\.\\d+)\", gate_string)\n",
    "        if match:\n",
    "            angle          = float(match.group(1))\n",
    "            qubit_acted_on = re.search(r\", 'q'\\), (\\d+)\", gate_string).group(1)\n",
    "            \n",
    "        gate_as_list.append([\"u1\",angle,qubit_acted_on])\n",
    "        \n",
    "    # u1 gate.\n",
    "    elif \"rx\" in gate_string:\n",
    "        \n",
    "        match = re.search(r\"ParameterExpression\\((-?\\d+\\.\\d+)\", gate_string)\n",
    "        if match:\n",
    "            angle          = float(match.group(1))\n",
    "            qubit_acted_on = re.search(r\", 'q'\\), (\\d+)\", gate_string).group(1)        \n",
    "        \n",
    "        match = re.search(r\"params=\\[([\\d.]+)\\]\", gate_string)\n",
    "        if match:\n",
    "            angle          = float(match.group(1))\n",
    "            qubit_acted_on = re.search(r\", 'q'\\), (\\d+)\", gate_string).group(1)\n",
    "            \n",
    "        match = re.search(r\"params=\\[(\\d+\\.\\d+)\", gate_string)\n",
    "        if match:\n",
    "            angle          = float(match.group(1))\n",
    "            qubit_acted_on = re.search(r\", 'q'\\), (\\d+)\", gate_string).group(1)\n",
    "            \n",
    "        gate_as_list.append([\"rx\",angle,qubit_acted_on])\n",
    "        \n",
    "    # controlled gate.    \n",
    "    elif \"cx\" in gate_string:\n",
    "        match = re.search(r\"(\\d+)(?=\\), Qubit\\(QuantumRegister)\", gate_string)\n",
    "        if match:\n",
    "            control_qubit =  int(match.group())\n",
    "                \n",
    "        match = re.search(r\"(\\d+)(?=\\)\\), clbits=\\(\\))\", gate_string)\n",
    "        if match:\n",
    "            target_qubit = int(match.group())\n",
    "\n",
    "        gate_as_list.append([\"cx\",control_qubit,target_qubit])\n",
    "    else:\n",
    "        print(\"Kant\")\n",
    "    return gate_as_list"
   ]
  },
  {
   "cell_type": "code",
   "execution_count": 188,
   "id": "38d8e879-3fb7-4992-b0a3-f0e2276f03ab",
   "metadata": {},
   "outputs": [],
   "source": [
    "file = open('gates_list_'+str(L)+'.txt', 'w')\n",
    "\n",
    "\n",
    "# U_0.\n",
    "for i in range(L):\n",
    "    # gate qubit qubt.\n",
    "    file.write(\"x\" + \"\\t\" + str(i) + \"\\t\" + str(i) + \"\\n\")\n",
    "    \n",
    "file.write(\"h\" + \"\\t\" + str(L-1) + \"\\t\" + str(L-1) + \"\\n\")\n",
    "for i in range(len(trans_qc)):\n",
    "    gate_as_list = extract_gate_details(i,trans_qc)[0]\n",
    "    file.write(gate_as_list[0] + \"\\t\" + str(gate_as_list[1]) + \"\\t\" + str(gate_as_list[2]) + \"\\n\")\n",
    "file.write(\"h\" + \"\\t\" + str(L-1) + \"\\t\" + str(L-1) + \"\\n\")\n",
    "\n",
    "for i in range(L):\n",
    "    # gate qubit qubt.\n",
    "    file.write(\"x\" + \"\\t\" + str(i) + \"\\t\" + str(i) + \"\\n\")\n",
    "\n",
    "# U_x.\n",
    "for i in range(L-1):\n",
    "    file.write(\"h\" + \"\\t\" + str(i) + \"\\t\" + str(i) + \"\\n\")\n",
    "    \n",
    "for i in range(L-1):\n",
    "    file.write(\"x\" + \"\\t\" + str(i) + \"\\t\" + str(i) + \"\\n\")\n",
    "    \n",
    "file.write(\"z\" + \"\\t\" + str(L-1) + \"\\t\" + str(L-1) + \"\\n\") \n",
    "for i in range(len(trans_qc)):\n",
    "    gate_as_list = extract_gate_details(i,trans_qc)[0]\n",
    "    file.write(gate_as_list[0] + \"\\t\" + str(gate_as_list[1]) + \"\\t\" + str(gate_as_list[2]) + \"\\n\")\n",
    "file.write(\"z\" + \"\\t\" + str(L-1) + \"\\t\" + str(L-1) + \"\\n\") \n",
    "\n",
    "for i in range(L-1):\n",
    "    file.write(\"x\" + \"\\t\" + str(i) + \"\\t\" + str(i) + \"\\n\")\n",
    "    \n",
    "for i in range(L-1):\n",
    "    file.write(\"h\" + \"\\t\" + str(i) + \"\\t\" + str(i) + \"\\n\")\n",
    "    \n",
    "file.close()"
   ]
  },
  {
   "cell_type": "code",
   "execution_count": null,
   "id": "9981d9b3-722d-42de-8e38-6e1b2201877c",
   "metadata": {},
   "outputs": [],
   "source": []
  }
 ],
 "metadata": {
  "kernelspec": {
   "display_name": "Python 3 (ipykernel)",
   "language": "python",
   "name": "python3"
  },
  "language_info": {
   "codemirror_mode": {
    "name": "ipython",
    "version": 3
   },
   "file_extension": ".py",
   "mimetype": "text/x-python",
   "name": "python",
   "nbconvert_exporter": "python",
   "pygments_lexer": "ipython3",
   "version": "3.9.12"
  }
 },
 "nbformat": 4,
 "nbformat_minor": 5
}
